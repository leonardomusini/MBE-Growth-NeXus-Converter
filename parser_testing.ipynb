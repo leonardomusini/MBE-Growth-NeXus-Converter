{
 "cells": [
  {
   "cell_type": "code",
   "execution_count": null,
   "metadata": {},
   "outputs": [],
   "source": [
    "from utils import file_searcher\n",
    "from parser import *"
   ]
  },
  {
   "cell_type": "code",
   "execution_count": 2,
   "metadata": {},
   "outputs": [
    {
     "name": "stdout",
     "output_type": "stream",
     "text": [
      "['4568IGA', '4484IGA', '4685IGA', '4284IGA', '4402IGA', '4736IGA', '4327IGA', '4485IGA', '4712IGA', '4426IGAb', '4586b-IGA', '4532IGA', '4309IGA', '4289IGA', '4435IGA', '4722IGA', '4591IGA', '4585IGA', '4304IGA', '4389IGA', '4320IGA', '4316IGA', '4683IGA', '4723IGA', '4634IGA', '4429IGA', '4544IGA', '4503IGA', '4308IGA', '4407IGA', '4655IGA', '4529IGA-a', '4504IGA', '4477IGA', '4601IGA', '4740IGA', '4281IGA', '4604IGA', '4405IGA', '4587IGA', '4314IGA', '4387IGA', '4527IGA', '4657IGA', '4689IGA', '4295IGA', '4637IGA', '4246IGA', '4558IGA', '4570IGA', '4492IGA', '4566IGA', '4559IGA', '4529IGA', '4318IGA', '4420IGA', '4374IGA', '4526IGA', '4368IGA', '4275IGA', '4633IGA', '4474IGA', '4653IGA', '4238IGA', '4600IGA', '4684IGA', '4242IGA', '4468IGA', '4628IGA', '4313IGA', '4569IGA', '4642IGA', '4279IGA', '4680IGA', '4426IGA', '4312IGA', '4594IGA', '4532IGA-b', '4716IGA', '4291IGA', '4624IGA', '4555IGA', '4598IGA', '4560IGA', '4539IGA', '4588IGA', '4739IGA', '4410IGA', '4377IGA', '4646IGA', '4632IGA', '4302IGA', '4288IGA', '4694IGA', '4536IGA', '4338IGA', '4720IGA', '4651IGA', '4244IGA', '4573IGA', '4711IGA', '4590IGA', '4413IGA', '4622IGA', '4715IGA', '4384IGA', '4537IGA', '4620IGA', '4724IGA', '4388IGA', '4205IGA', '4630IGA', '4466IGA', '4578IGA', '4237IGA', '4340IGA', '4584IGA', '4486IGA', '4650IGA', '4584IGA2', '4204IGA', '4207IGA', '4472IGA', '4336IGA', '4552IGA', '4583IGA', '4641IGA', '4690IGA', '4618IGA2', '4563IGA', '4629IGA', '4728IGA', '4729IGA', '4602IGA', '4603IGA', '4659IGA', '4630IGAb', '4411IGA', '4686IGA', '4317IGA', '4211IGA', '4292IGA', '4296IGA', '4599IGA', '4554IGA', '4534IGA', '4362IGA', '4589IGA', '4478IGA', '4315IGA', '4409IGA', '4425IGA', '4491IGA', '4732IGA', '4393IGA', '4502IGA', '4465IGA', '4490IGA', '4311IGA', '4240IGA', '4652IGA', '4580IGA', '4287IGA', '4681IGA', '4423IGA', '4643IGA', '4649IGA', '4595IGA', '4303IGA', '4532IGA-a', '4538IGA', '4531IGA', '4285IGA', '4548IGA', '4235IGA', '4627IGA', '4307IGA', '4408IGA', '4597IGA', '4733IGA', '4562IGA', '4531IGA-b', '4300IGA', '4606IGA', '4321IGA', '4385IGA', '4422IGA', '4738IGA', '4367IGA', '4727IGA', '4734IGA', '4243IGA', '4719IGA', '4376IGA', '4691IGA', '4661IGA', '4306IGA', '4735IGA', '4529IGA-b', '4550IGA', '4310IGA', '4545IGA', '4475IGA', '4071IGA', '4245IGA', '4619IGA', '4731IGA', '4645IGA', '4319IGA', '4623IGA', '4241IGA', '4276IGA', '4683IGA-b', '4525IGA', '4206IGA', '4654IGA', '4644IGA', '4625IGA', '4341IGA', '4335IGA', '4593IGA', '4551IGA', '4501IGA', '4280IGA', '4403IGA', '4239IGA', '4404IGA', '4721IGA', '4582IGA', '4328IGA', '4294IGA', '4557IGA', '4305IGA', '4567IGA', '4282IGA', '4540IGA', '4660IGA', '4299IGA', '4565IGA', '4648IGA', '4528IGA', '4470IGA', '4334IGA', '4626IGA', '4579IGA', '4428IGA', '4406IGA', '4489IGA', '4556IGA', '4469IGA', '4278IGA', '4298IGA', '4488IGA', '4586IGA', '4284IGA-b', '4531IGA-a', '4553IGA', '4551IGAb', '4386IGA', '4275IGA-b', '4549IGA', '4639IGA', '4543IGA', '4297IGA', '4361IGA', '4476IGA', '4682IGA', '4621IGA', '4301IGA', '4375IGA', '4337IGA', '4392IGA', '4640IGA', '4283IGA', '4618IGA', '4737IGA', '4535IGA', '4471IGA', '4596IGA', '4636IGA', '4564IGA', '4574IGA', '4730IGA', '4631IGA', '4542IGA', '4533IGA', '4401IGA', '4605IGA', '4662IGA', '4290IGA', '4527IGA-b', '4561IGA', '4437IGA', '4400IGA', '4473IGA', '4679IGA', '4286IGA']\n",
      "Total number of files: 297\n"
     ]
    }
   ],
   "source": [
    "number_list = file_searcher(\"./growths/processes\")\n",
    "print(number_list)\n",
    "print(\"Total number of files:\", len(number_list))"
   ]
  },
  {
   "cell_type": "code",
   "execution_count": 3,
   "metadata": {},
   "outputs": [],
   "source": [
    "file_path = f'./growths/processes/hm4468IGA.wri'"
   ]
  },
  {
   "cell_type": "code",
   "execution_count": 4,
   "metadata": {},
   "outputs": [
    {
     "name": "stdout",
     "output_type": "stream",
     "text": [
      "Substrate: {'orientation': '(100)', 'doping': 'SI', 'convention': 'EJ', 'area': '1/4', 'diameter': 2, 'thickness': nan, 'name': 'MC', 'holder': 'Mo'}\n",
      "Substrate values: ['(100)', 'SI', 'EJ', '1/4', 2, nan, 'MC', 'Mo']\n"
     ]
    }
   ],
   "source": [
    "substrate = parse_substrate(file_path)\n",
    "\n",
    "print(\"Substrate:\", substrate)\n",
    "print(\"Substrate values:\", list(substrate.values()))"
   ]
  },
  {
   "cell_type": "code",
   "execution_count": 5,
   "metadata": {},
   "outputs": [
    {
     "name": "stdout",
     "output_type": "stream",
     "text": [
      "Date: 12-21-2021\n",
      "Ending time: 11:49:54\n",
      "Duration: 02:43:41\n",
      "Sample thickness: 2.176\n",
      "Arsenic flux: 1.3E-5\n",
      "Deoxidation Temperature: 730.0\n",
      "Nominal Rotation: 15\n"
     ]
    }
   ],
   "source": [
    "date, ending_time, duration, sample, flux, Tdeox, rot = parse_wri(file_path)\n",
    "\n",
    "print(\"Date:\", date)\n",
    "print(\"Ending time:\", ending_time)\n",
    "print(\"Duration:\", duration)\n",
    "print(\"Sample thickness:\", sample)\n",
    "print(\"Arsenic flux:\", flux)\n",
    "print(\"Deoxidation Temperature:\", Tdeox)\n",
    "print(\"Nominal Rotation:\", rot)"
   ]
  },
  {
   "cell_type": "code",
   "execution_count": 6,
   "metadata": {},
   "outputs": [
    {
     "name": "stdout",
     "output_type": "stream",
     "text": [
      "Temperature control: None\n",
      "Layer rpm: [1.0, 1.0, 1.0, 1.0, 1.0, 5.0, 5.0, 5.0, 5.0, 5.0, 5.0, 5.0, 5.0, 5.0, 5.0, 5.0, 5.0, 5.0, 5.0, 5.0, 5.0, 5.0, 5.0, 5.0, 5.0, 5.0, 5.0, 5.0, 5.0, 5.0, 5.0, 15.0, 15.0, 15.0, 15.0, 15.0, 15.0, 15.0, 0.0]\n",
      "Layer temperatures: [0, 0, 0, 0, 480.0, 480.0, 480.0, 480.0, 480.0, 480.0, 480.0, 480.0, 480.0, 480.0, 480.0, 480.0, 480.0, 480.0, 480.0, 480.0, 480.0, 480.0, 480.0, 480.0, 480.0, 480.0, 480.0, 480.0, 480.0, 480.0, 480.0, 600.0, 600.0, 600.0, 600.0, 600.0, 600.0, 600.0, 430.0]\n",
      "Silicon current: [0, 0, 0, 0, 0, 0, 0, 0, 0, 0, 0, 0, 0, 0, 0, 0, 0, 0, 0, 0, 0, 0, 0, 0, 0, 0, 0, 0, 0, 0, 15.0, 20.7, 20.7, 20.7, 3.0, 3.0, 3.0, 3.0, 3.0]\n",
      "Carbon current: [0, 0, 0, 0, 0, 0, 0, 0, 0, 0, 0, 0, 0, 0, 0, 0, 0, 0, 0, 0, 0, 0, 0, 0, 0, 0, 0, 0, 0, 0, 0, 0, 0, 0, 0, 0, 0, 0, 0]\n"
     ]
    }
   ],
   "source": [
    "control, rpm_data, temp_data, Si_current, C_current = parse_wri_layer(file_path, Tdeox)\n",
    "\n",
    "print(\"Temperature control:\", control)\n",
    "print(\"Layer rpm:\", rpm_data)\n",
    "print(\"Layer temperatures:\", temp_data)\n",
    "print(\"Silicon current:\", Si_current)\n",
    "print(\"Carbon current:\", C_current)"
   ]
  },
  {
   "cell_type": "code",
   "execution_count": 7,
   "metadata": {},
   "outputs": [
    {
     "name": "stdout",
     "output_type": "stream",
     "text": [
      "Layer: [1, 2, 3, 4, 6, 7, 8, 9, 10, 11, 12, 13, 14, 15, 16, 17, 18, 19, 20, 21, 22, 23, 24, 25, 26, 27, 28, 29, 30, 31, 32, 33, 34, 36, 37, 38]\n",
      "Step repetitions: [1, 1, 20, 1, 1, 1, 1, 1, 1, 1, 1, 1, 1, 1, 1, 1, 1, 1, 1, 1, 1, 1, 1, 1, 1, 1, 1, 1, 1, 1, 1, 1, 1, 1, 1, 1]\n",
      "Returning step [1, 1, 2, 1, 1, 1, 1, 1, 1, 1, 1, 1, 1, 1, 1, 1, 1, 1, 1, 1, 1, 1, 1, 1, 1, 1, 1, 1, 1, 1, 1, 1, 1, 1, 1, 1]\n",
      "Material: ['GaAs', 'GaAs', 'AlGaAs', 'GaAs', 'InAlAs', 'InAlAs', 'InAlAs', 'InAlAs', 'InAlAs', 'InAlAs', 'InAlAs', 'InAlAs', 'InAlAs', 'InAlAs', 'InAlAs', 'InAlAs', 'InAlAs', 'InAlAs', 'InAlAs', 'InAlAs', 'InAlAs', 'InAlAs', 'InAlAs', 'InAlAs', 'InAlAs', 'InAlAs', 'InAlAs', 'InAlAs', 'InAlAs', 'InAlAs', 'InAlAs', 'Si', 'InAlAs', 'InGaAs', 'InAs', 'InGaAs']\n",
      "Dopant element: [None, None, None, None, None, None, None, None, None, None, None, None, None, None, None, None, None, None, None, None, None, None, None, None, None, None, None, None, None, None, None, None, None, None, None, None]\n",
      "Thickness: [2000.0, 20.0, 80.0, 2000.0, 500.0, 500.0, 500.0, 500.0, 500.0, 500.0, 500.0, 500.0, 500.0, 500.0, 500.0, 500.0, 500.0, 500.0, 500.0, 500.0, 500.0, 500.0, 500.0, 500.0, 500.0, 500.0, 500.0, 500.0, 2000.0, 1000.0, 430.0, 0.0, 70.0, 90.0, 70.0, 100.0]\n",
      "Growing time: [714.29, 7.14, 19.02, 714.29, 454.13, 432.9, 411.86, 393.08, 374.25, 355.62, 336.93, 315.66, 294.29, 272.93, 251.64, 235.52, 219.49, 214.13, 208.86, 195.47, 182.08, 168.75, 155.33, 144.63, 133.94, 137.67, 141.24, 145.01, 600.6, 300.3, 124.28, 3.0, 20.23, 26.11, 25.03, 29.01]\n",
      "Growing rate: [2.8, 2.8, 4.205, 2.8, 1.101, 1.155, 1.214, 1.272, 1.336, 1.406, 1.484, 1.584, 1.699, 1.832, 1.987, 2.123, 2.278, 2.335, 2.394, 2.558, 2.746, 2.963, 3.219, 3.457, 3.733, 3.632, 3.54, 3.448, 3.33, 3.33, 3.46, 0.0, 3.46, 3.447, 2.797, 3.447]\n",
      "Alloy fraction: [0.0, 0.0, 0.33, 0.0, 0.15, 0.19, 0.23, 0.26, 0.3, 0.33, 0.37, 0.41, 0.45, 0.49, 0.53, 0.56, 0.59, 0.6, 0.61, 0.63, 0.66, 0.68, 0.71, 0.73, 0.75, 0.77, 0.79, 0.81, 0.84, 0.84, 0.81, 0.0, 0.81, 0.81, 1.0, 0.81]\n",
      "Shutters statuses: [[False, True, False, False], [False, True, False, False], [False, True, True, False], [False, True, False, False], [False, False, True, True], [False, False, True, True], [False, False, True, True], [False, False, True, True], [False, False, True, True], [False, False, True, True], [False, False, True, True], [False, False, True, True], [False, False, True, True], [False, False, True, True], [False, False, True, True], [False, False, True, True], [False, False, True, True], [False, False, True, True], [False, False, True, True], [False, False, True, True], [False, False, True, True], [False, False, True, True], [False, False, True, True], [False, False, True, True], [False, False, True, True], [False, False, True, True], [False, False, True, True], [False, False, True, True], [False, False, True, True], [False, False, True, True], [False, False, True, True], [False, False, False, False], [False, False, True, True], [False, True, False, True], [False, False, False, True], [False, True, False, True]]\n",
      "Partial growth rates: [[2.809, 2.8, 1.405, 0.165], [2.809, 2.8, 1.405, 0.165], [2.809, 2.8, 1.405, 0.165], [2.809, 2.8, 1.405, 0.165], [0.936, 0.936, 0.936, 0.165], [0.936, 0.936, 0.936, 0.219], [0.936, 0.936, 0.936, 0.278], [0.936, 0.936, 0.936, 0.336], [0.936, 0.936, 0.936, 0.4], [0.936, 0.936, 0.936, 0.47], [0.936, 0.936, 0.936, 0.548], [0.936, 0.936, 0.936, 0.648], [0.936, 0.936, 0.936, 0.763], [0.936, 0.936, 0.936, 0.896], [0.936, 0.936, 0.936, 1.051], [0.936, 0.936, 0.936, 1.187], [0.936, 0.936, 0.936, 1.342], [0.936, 0.936, 0.936, 1.399], [0.936, 0.936, 0.936, 1.458], [0.936, 0.936, 0.936, 1.622], [0.936, 0.936, 0.936, 1.81], [0.936, 0.936, 0.936, 2.027], [0.936, 0.936, 0.936, 2.283], [0.936, 0.936, 0.936, 2.521], [0.925, 0.936, 0.936, 2.797], [0.925, 0.936, 0.835, 2.797], [0.925, 0.936, 0.743, 2.797], [0.925, 0.936, 0.651, 2.797], [0.925, 0.936, 0.533, 2.797], [0.925, 0.936, 0.533, 2.797], [0.658, 0.65, 0.663, 2.797], [0.658, 0.65, 0.663, 2.797], [0.658, 0.65, 0.663, 2.797], [0.658, 0.65, 0.663, 2.797], [0.658, 0.65, 0.663, 2.797], [0.658, 0.65, 0.663, 2.797]]\n"
     ]
    }
   ],
   "source": [
    "layer, loop, r_step, material, dop_element, thickness, time, rate, x, shutters, pg_rates = parse_layer(file_path)\n",
    "\n",
    "print(\"Layer:\", layer)\n",
    "print(\"Step repetitions:\", loop)\n",
    "print(\"Returning step\", r_step)\n",
    "print(\"Material:\", material)\n",
    "print(\"Dopant element:\", dop_element)\n",
    "print(\"Thickness:\", thickness)\n",
    "print(\"Growing time:\", time)\n",
    "print(\"Growing rate:\", rate)\n",
    "print(\"Alloy fraction:\", x)\n",
    "print(\"Shutters statuses:\", shutters)\n",
    "print(\"Partial growth rates:\", pg_rates)"
   ]
  },
  {
   "cell_type": "code",
   "execution_count": 8,
   "metadata": {},
   "outputs": [
    {
     "name": "stdout",
     "output_type": "stream",
     "text": [
      "Layer: [1, 2, 3, 4, 6, 7, 8, 9, 10, 11, 12, 13, 14, 15, 16, 17, 18, 19, 20, 21, 22, 23, 24, 25, 26, 27, 28, 29, 30, 31, 32, 33, 34, 36, 37, 38]\n",
      "Step repetitions: [1, 1, 20, 1, 1, 1, 1, 1, 1, 1, 1, 1, 1, 1, 1, 1, 1, 1, 1, 1, 1, 1, 1, 1, 1, 1, 1, 1, 1, 1, 1, 1, 1, 1, 1, 1]\n",
      "Returning step [1, 1, 2, 1, 1, 1, 1, 1, 1, 1, 1, 1, 1, 1, 1, 1, 1, 1, 1, 1, 1, 1, 1, 1, 1, 1, 1, 1, 1, 1, 1, 1, 1, 1, 1, 1]\n",
      "Material: ['GaAs', 'GaAs', 'AlGaAs', 'GaAs', 'InAlAs', 'InAlAs', 'InAlAs', 'InAlAs', 'InAlAs', 'InAlAs', 'InAlAs', 'InAlAs', 'InAlAs', 'InAlAs', 'InAlAs', 'InAlAs', 'InAlAs', 'InAlAs', 'InAlAs', 'InAlAs', 'InAlAs', 'InAlAs', 'InAlAs', 'InAlAs', 'InAlAs', 'InAlAs', 'InAlAs', 'InAlAs', 'InAlAs', 'InAlAs', 'InAlAs', 'Si', 'InAlAs', 'InGaAs', 'InAs', 'InGaAs']\n",
      "Dopant element: [None, None, None, None, None, None, None, None, None, None, None, None, None, None, None, None, None, None, None, None, None, None, None, None, None, None, None, None, None, None, None, None, None, None, None, None]\n",
      "Thickness: [2000.0, 20.0, 80.0, 2000.0, 500.0, 500.0, 500.0, 500.0, 500.0, 500.0, 500.0, 500.0, 500.0, 500.0, 500.0, 500.0, 500.0, 500.0, 500.0, 500.0, 500.0, 500.0, 500.0, 500.0, 500.0, 500.0, 500.0, 500.0, 2000.0, 1000.0, 430.0, 0.0, 70.0, 90.0, 70.0, 100.0]\n",
      "Growing time: [714.2857, 7.142857, 19.02497, 714.2857, 454.1326, 432.9004, 411.8616, 393.0818, 374.2515, 355.6188, 336.9272, 315.6566, 294.2908, 272.9258, 251.6356, 235.5158, 219.4908, 214.1328, 208.8555, 195.4652, 182.083, 168.7479, 155.3277, 144.6341, 133.9405, 137.6652, 141.2429, 145.0116, 600.6006, 300.3003, 124.2775, 3.0, 20.23121, 26.10966, 25.02681, 29.01073]\n",
      "Growing rate: [2.8, 2.8, 4.205, 2.8, 1.101, 1.155, 1.214, 1.272, 1.336, 1.406, 1.484, 1.584, 1.699, 1.832, 1.987, 2.123, 2.278, 2.335, 2.394, 2.558, 2.746, 2.963, 3.219, 3.457, 3.733, 3.632, 3.54, 3.448, 3.33, 3.33, 3.46, 0.0, 3.46, 3.447, 2.797, 3.447]\n",
      "Alloy fraction: [0.0, 0.0, 0.3341, 0.0, 0.1499, 0.1896, 0.229, 0.2642, 0.2994, 0.3343, 0.3693, 0.4091, 0.4491, 0.4891, 0.5289, 0.5591, 0.5891, 0.5991, 0.609, 0.6341, 0.6591, 0.6841, 0.7092, 0.7292, 0.7493, 0.7701, 0.7901, 0.8112, 0.8399, 0.8399, 0.8084, 0.0, 0.8084, 0.8114, 1.0, 0.8114]\n",
      "Shutters statuses: [[False, True, False, False], [False, True, False, False], [False, True, True, False], [False, True, False, False], [False, False, True, True], [False, False, True, True], [False, False, True, True], [False, False, True, True], [False, False, True, True], [False, False, True, True], [False, False, True, True], [False, False, True, True], [False, False, True, True], [False, False, True, True], [False, False, True, True], [False, False, True, True], [False, False, True, True], [False, False, True, True], [False, False, True, True], [False, False, True, True], [False, False, True, True], [False, False, True, True], [False, False, True, True], [False, False, True, True], [False, False, True, True], [False, False, True, True], [False, False, True, True], [False, False, True, True], [False, False, True, True], [False, False, True, True], [False, False, True, True], [False, False, False, False], [False, False, True, True], [False, True, False, True], [False, False, False, True], [False, True, False, True]]\n",
      "Partial growth rates: [[2.809, 2.8, 1.405, 0.165], [2.809, 2.8, 1.405, 0.165], [2.809, 2.8, 1.405, 0.165], [2.809, 2.8, 1.405, 0.165], [0.936, 0.936, 0.936, 0.165], [0.936, 0.936, 0.936, 0.219], [0.936, 0.936, 0.936, 0.278], [0.936, 0.936, 0.936, 0.336], [0.936, 0.936, 0.936, 0.4], [0.936, 0.936, 0.936, 0.47], [0.936, 0.936, 0.936, 0.548], [0.936, 0.936, 0.936, 0.648], [0.936, 0.936, 0.936, 0.763], [0.936, 0.936, 0.936, 0.896], [0.936, 0.936, 0.936, 1.051], [0.936, 0.936, 0.936, 1.187], [0.936, 0.936, 0.936, 1.342], [0.936, 0.936, 0.936, 1.399], [0.936, 0.936, 0.936, 1.458], [0.936, 0.936, 0.936, 1.622], [0.936, 0.936, 0.936, 1.81], [0.936, 0.936, 0.936, 2.027], [0.936, 0.936, 0.936, 2.283], [0.936, 0.936, 0.936, 2.521], [0.925, 0.936, 0.936, 2.797], [0.925, 0.936, 0.835, 2.797], [0.925, 0.936, 0.743, 2.797], [0.925, 0.936, 0.651, 2.797], [0.925, 0.936, 0.533, 2.797], [0.925, 0.936, 0.533, 2.797], [0.658, 0.65, 0.663, 2.797], [0.658, 0.65, 0.663, 2.797], [0.658, 0.65, 0.663, 2.797], [0.658, 0.65, 0.663, 2.797], [0.658, 0.65, 0.663, 2.797], [0.658, 0.65, 0.663, 2.797]]\n"
     ]
    }
   ],
   "source": [
    "file_path = f'./growths/processes/hm4468IGA.ep4'\n",
    "layer, loop, r_step, material, dop_element, thickness, time, rate, x, shutters, pg_rates = parse_layer(file_path)\n",
    "\n",
    "print(\"Layer:\", layer)\n",
    "print(\"Step repetitions:\", loop)\n",
    "print(\"Returning step\", r_step)\n",
    "print(\"Material:\", material)\n",
    "print(\"Dopant element:\", dop_element)\n",
    "print(\"Thickness:\", thickness)\n",
    "print(\"Growing time:\", time)\n",
    "print(\"Growing rate:\", rate)\n",
    "print(\"Alloy fraction:\", x)\n",
    "print(\"Shutters statuses:\", shutters)\n",
    "print(\"Partial growth rates:\", pg_rates)"
   ]
  },
  {
   "cell_type": "code",
   "execution_count": null,
   "metadata": {},
   "outputs": [],
   "source": [
    "file_path = f'./growths/logs/hm{number}refl.txt'\n",
    "timestamp, wavelengths, _, _ = parse_reflectometer(file_path)\n",
    "\n",
    "print(\"Timestamp:\", timestamp)\n",
    "print(\"Wavelengths:\", wavelengths)"
   ]
  },
  {
   "cell_type": "code",
   "execution_count": null,
   "metadata": {},
   "outputs": [],
   "source": [
    "file_path = f'./growths/logs/hm{number}temp.txt'\n",
    "timestamp, _, _, _ = parse_pyrometer(file_path)\n",
    "\n",
    "print(\"Timestamp:\", timestamp)"
   ]
  },
  {
   "cell_type": "code",
   "execution_count": null,
   "metadata": {},
   "outputs": [],
   "source": [
    "def parse_layer(file_path):\n",
    "\n",
    "    with open(file_path, 'r', encoding=\"latin1\") as file:\n",
    "        lines = file.readlines()\n",
    "\n",
    "    eps = 1e-4    #Necessary for rounding errors\n",
    "\n",
    "    layer = []\n",
    "    loop = []\n",
    "    r_step = []\n",
    "    material = []\n",
    "    dop_element = []\n",
    "    thickness = []\n",
    "    time = []\n",
    "    rate = []\n",
    "    x = []\n",
    "    r_Ga1 = []\n",
    "    r_Ga2 = []\n",
    "    r_Al = []\n",
    "    r_In = []\n",
    "\n",
    "    no_elements = ['interruption']\n",
    "    r_step_adjust = 0\n",
    "\n",
    "    for line in lines:\n",
    "        \n",
    "        if re.match(r'^\\d+\\s+\\d+\\s+\\d+\\s+\\w+', line):\n",
    "            columns = line.split()\n",
    "            # Filter columns to keep only the actual layers\n",
    "            if any(no in columns for no in no_elements):\n",
    "                r_step_adjust += 1\n",
    "                continue \n",
    "\n",
    "            layer.append(int(columns[0]))\n",
    "\n",
    "            loop.append(int(columns[1]))\n",
    "\n",
    "            if int(columns[1]) > 1:\n",
    "                r_step.append(int(columns[2]) - r_step_adjust)\n",
    "            else:\n",
    "                r_step.append(int(columns[2]))\n",
    "\n",
    "            if ':' in columns[3]:\n",
    "                ch_formula, dopant = columns[3].split(':', 1)\n",
    "            else:\n",
    "                ch_formula = columns[3]\n",
    "                dopant = None\n",
    "            material.append(ch_formula)\n",
    "            \n",
    "            dop_element.append(dopant)\n",
    "\n",
    "            if float(columns[4]) < eps:\n",
    "                thickness.append(0.00)\n",
    "            else:\n",
    "                thickness.append(float(columns[4]))\n",
    "\n",
    "            time.append(float(columns[5]))\n",
    "\n",
    "            if float(columns[6]) < eps:\n",
    "                rate.append(0.00)\n",
    "            else:\n",
    "                rate.append(float(columns[6]))\n",
    "\n",
    "            if float(columns[7]) < eps:\n",
    "                x.append(0.00)\n",
    "            else:\n",
    "                x.append(float(columns[7]))\n",
    "\n",
    "            r_Ga1.append(float(columns[14]))\n",
    "\n",
    "            r_Ga2.append(float(columns[15]))\n",
    "\n",
    "            r_Al.append(float(columns[16]))\n",
    "\n",
    "            r_In.append(float(columns[17]))\n",
    " \n",
    "    return layer, loop, r_step, material, dop_element, thickness, time, rate, x, r_Ga1, r_Ga2, r_Al, r_In"
   ]
  }
 ],
 "metadata": {
  "kernelspec": {
   "display_name": "venv",
   "language": "python",
   "name": "python3"
  },
  "language_info": {
   "codemirror_mode": {
    "name": "ipython",
    "version": 3
   },
   "file_extension": ".py",
   "mimetype": "text/x-python",
   "name": "python",
   "nbconvert_exporter": "python",
   "pygments_lexer": "ipython3",
   "version": "3.12.3"
  }
 },
 "nbformat": 4,
 "nbformat_minor": 2
}
