{
 "cells": [
  {
   "cell_type": "code",
   "execution_count": null,
   "metadata": {},
   "outputs": [],
   "source": [
    "from utils import file_searcher\n",
    "from parser import *"
   ]
  },
  {
   "cell_type": "code",
   "execution_count": null,
   "metadata": {},
   "outputs": [],
   "source": [
    "sample_list, number_list = file_searcher(\"./growths/processes/\")\n",
    "print(sample_list)\n",
    "print(number_list)\n",
    "print(\"Total number of files:\", len(number_list))"
   ]
  },
  {
   "cell_type": "code",
   "execution_count": null,
   "metadata": {},
   "outputs": [],
   "source": [
    "file_path = f'./growths/processes/hm4721IGA.wri'"
   ]
  },
  {
   "cell_type": "code",
   "execution_count": null,
   "metadata": {},
   "outputs": [],
   "source": [
    "substrate = parse_substrate(file_path)\n",
    "\n",
    "print(\"Substrate:\", substrate)\n",
    "print(\"Substrate values:\", list(substrate.values()))"
   ]
  },
  {
   "cell_type": "code",
   "execution_count": null,
   "metadata": {},
   "outputs": [],
   "source": [
    "date, ending_time, duration, sample, flux, Tdeox, rot = parse_wri(file_path)\n",
    "\n",
    "print(\"Date:\", date)\n",
    "print(\"Ending time:\", ending_time)\n",
    "print(\"Duration:\", duration)\n",
    "print(\"Sample thickness:\", sample)\n",
    "print(\"Arsenic flux:\", flux)\n",
    "print(\"Deoxidation Temperature:\", Tdeox)\n",
    "print(\"Nominal Rotation:\", rot)"
   ]
  },
  {
   "cell_type": "code",
   "execution_count": null,
   "metadata": {},
   "outputs": [],
   "source": [
    "control, rpm_data, temp_data, Si_current, C_current = parse_wri_layer(file_path, Tdeox)\n",
    "\n",
    "print(\"Temperature control:\", control)\n",
    "print(\"Layer rpm:\", rpm_data)\n",
    "print(\"Layer temperatures:\", temp_data)\n",
    "print(\"Silicon current:\", Si_current)\n",
    "print(\"Carbon current:\", C_current)"
   ]
  },
  {
   "cell_type": "code",
   "execution_count": null,
   "metadata": {},
   "outputs": [],
   "source": [
    "file_path = f'./growths/processes/hm4721IGA.ep4'\n",
    "layer, loop, r_step, material, dop_element, thickness, time, rate, x, shutters, pg_rates= parse_layer(file_path)\n",
    "\n",
    "print(\"Layer:\", layer)\n",
    "print(\"Step repetitions:\", loop)\n",
    "print(\"Returning step\", r_step)\n",
    "print(\"Material:\", material)\n",
    "print(\"Dopant element:\", dop_element)\n",
    "print(\"Thickness:\", thickness)\n",
    "print(\"Growing time:\", time)\n",
    "print(\"Growing rate:\", rate)\n",
    "print(\"Alloy fraction:\", x)\n",
    "print(\"Shutters statuses:\", shutters)\n",
    "print(\"Partial growth rates:\", pg_rates)"
   ]
  },
  {
   "cell_type": "code",
   "execution_count": null,
   "metadata": {},
   "outputs": [],
   "source": [
    "file_path = f'./growths/logs/hm4721refl.txt'\n",
    "timestamp, day_fraction, calib_950, calib_470 = parse_reflectometer(file_path)\n",
    "\n",
    "print(\"Timestamp:\", timestamp)\n",
    "print(\"Day fraction:\", day_fraction)\n",
    "print(\"Reflectivity 950:\", calib_950)\n",
    "print(\"Reflectivity 470:\", calib_470)"
   ]
  },
  {
   "cell_type": "code",
   "execution_count": null,
   "metadata": {},
   "outputs": [],
   "source": [
    "file_path = f'./growths/logs/hm4721temp.txt'\n",
    "timestamp, day_fraction, temp_ratio, temp_emiss = parse_pyrometer(file_path)\n",
    "\n",
    "print(\"Timestamp:\", timestamp)\n",
    "print(\"Dayfraction:\", day_fraction)\n",
    "print(\"Temperature ratio:\", temp_ratio)\n",
    "print(\"Temperature emissivity:\", temp_emiss)"
   ]
  },
  {
   "cell_type": "code",
   "execution_count": null,
   "metadata": {},
   "outputs": [],
   "source": [
    "file_path = f'./growths/logs/hm4721IGA.log'\n",
    "timestamp, time_log, pressure = parse_log(file_path)\n",
    "\n",
    "print(\"Timestamp:\", timestamp)\n",
    "print(\"Time log:\", time_log)\n",
    "print(\"Pressure:\", pressure)"
   ]
  },
  {
   "cell_type": "code",
   "execution_count": null,
   "metadata": {},
   "outputs": [],
   "source": []
  }
 ],
 "metadata": {
  "kernelspec": {
   "display_name": "venv",
   "language": "python",
   "name": "python3"
  },
  "language_info": {
   "codemirror_mode": {
    "name": "ipython",
    "version": 3
   },
   "file_extension": ".py",
   "mimetype": "text/x-python",
   "name": "python",
   "nbconvert_exporter": "python",
   "pygments_lexer": "ipython3",
   "version": "3.12.3"
  }
 },
 "nbformat": 4,
 "nbformat_minor": 2
}
